{
 "cells": [
  {
   "cell_type": "code",
   "execution_count": 2,
   "metadata": {},
   "outputs": [],
   "source": [
    "import math"
   ]
  },
  {
   "cell_type": "code",
   "execution_count": 32,
   "metadata": {},
   "outputs": [
    {
     "name": "stdout",
     "output_type": "stream",
     "text": [
      "0.7797793533983011\n"
     ]
    }
   ],
   "source": [
    "# probabilidad de que aparezcan 7\n",
    "def Poison(k, l):\n",
    "    return (l**k * math.exp(-l)) / math.factorial(k)\n",
    "def PoisonAcum(k, l):\n",
    "    suma = 0\n",
    "    for i in range(k+1):\n",
    "        suma += Poison(i, l)\n",
    "    return suma\n",
    "print(1- PoisonAcum(7, 10))128/130123"
   ]
  },
  {
   "cell_type": "code",
   "execution_count": 35,
   "metadata": {},
   "outputs": [
    {
     "name": "stdout",
     "output_type": "stream",
     "text": [
      "1.3014142088248297\n"
     ]
    }
   ],
   "source": [
    "# Numero promedio de generadores \n",
    "def numero_promedio(l,n):\n",
    "    suma = 0\n",
    "    for i in range(n+1):\n",
    "        suma += i * Poison(i, l)\n",
    "    return suma\n",
    "\n",
    "CantidadPromedio = numero_promedio(10, 7)\n",
    "print(CantidadPromedio)"
   ]
  },
  {
   "cell_type": "code",
   "execution_count": 36,
   "metadata": {},
   "outputs": [
    {
     "name": "stdout",
     "output_type": "stream",
     "text": [
      "2.2022064660169898\n"
     ]
    }
   ],
   "source": [
    "def lambda_promedio(l, n):\n",
    "    suma = 0\n",
    "    for i in range(n+1):\n",
    "        suma += l * Poison(i, l)\n",
    "    return suma\n",
    "\n",
    "lambdaPromedio = lambda_promedio(10, 7)\n",
    "print(lambdap)"
   ]
  },
  {
   "cell_type": "code",
   "execution_count": 41,
   "metadata": {},
   "outputs": [
    {
     "name": "stdout",
     "output_type": "stream",
     "text": [
      "Promedio de generadores: 13.687551165980791\n",
      "Taza de utilizacion: 7.340688220056632\n"
     ]
    }
   ],
   "source": [
    "P0 = 0.1038\n",
    "Lambda = 8\n",
    "mu = 6\n",
    "def Pn(n):\n",
    "    return P0 * (Lambda/mu)**n\n",
    "def PAcumulado(n):\n",
    "    suma = 0\n",
    "    for i in range(n+1):\n",
    "        suma += Pn(i)\n",
    "    return suma\n",
    "def acumulada(n):\n",
    "    return PAcumulado(n)/P0\n",
    "    \n",
    "print(\"Promedio de generadores:\", acumulada(7))\n",
    "print(\"Taza de utilizacion:\", lambdaPromedio/(mu*0.05))"
   ]
  },
  {
   "cell_type": "markdown",
   "metadata": {},
   "source": []
  },
  {
   "cell_type": "code",
   "execution_count": null,
   "metadata": {},
   "outputs": [],
   "source": []
  }
 ],
 "metadata": {
  "kernelspec": {
   "display_name": "MLearn",
   "language": "python",
   "name": "python3"
  },
  "language_info": {
   "codemirror_mode": {
    "name": "ipython",
    "version": 3
   },
   "file_extension": ".py",
   "mimetype": "text/x-python",
   "name": "python",
   "nbconvert_exporter": "python",
   "pygments_lexer": "ipython3",
   "version": "3.11.4"
  },
  "orig_nbformat": 4
 },
 "nbformat": 4,
 "nbformat_minor": 2
}
