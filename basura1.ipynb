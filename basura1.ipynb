{
 "cells": [
  {
   "cell_type": "code",
   "execution_count": 1,
   "metadata": {},
   "outputs": [
    {
     "name": "stdout",
     "output_type": "stream",
     "text": [
      "[0, 1, 3, 2] 17\n"
     ]
    }
   ],
   "source": [
    "import numpy as np\n",
    "from python_tsp.exact import solve_tsp_dynamic_programming\n",
    "\n",
    "distance_matrix = np.array([\n",
    "    [0,  5, 4, 10],\n",
    "    [5,  0, 8,  5],\n",
    "    [4,  8, 0,  3],\n",
    "    [10, 5, 3,  0]\n",
    "])\n",
    "permutation, distance = solve_tsp_dynamic_programming(distance_matrix)\n",
    "print (permutation, distance)"
   ]
  },
  {
   "cell_type": "code",
   "execution_count": 17,
   "metadata": {},
   "outputs": [
    {
     "name": "stdout",
     "output_type": "stream",
     "text": [
      "19.62912\n",
      "3.0566831319998045\n"
     ]
    }
   ],
   "source": [
    "import random\n",
    "import numpy as np\n",
    "# Generamos 199 puntos aleatorios con distribución de poisson\n",
    "promedio = 0\n",
    "for i in range(1000):\n",
    "    lam = 1.41\n",
    "    n = 199\n",
    "    salidas = [] # Guardamos los numeros aleatorios de poisson\n",
    "    for i in range(n):\n",
    "        salidas.append(np.random.poisson(lam))\n",
    "    # Dividimos en 5 grupos\n",
    "    grupos = []\n",
    "    for i in range(5):\n",
    "        grupos.append(salidas[i*40:(i+1)*40])\n",
    "    # Vemos cuanto suman en promedio los grupos\n",
    "    suma = 0\n",
    "    for i in range(5):\n",
    "        suma += sum(grupos[i])\n",
    "    promedio += suma/5\n",
    "promedio = promedio/1000\n",
    "tiempo = promedio*.35\n",
    "mu = 60/tiempo\n",
    "print (tiempo)\n",
    "print(mu)"
   ]
  },
  {
   "cell_type": "code",
   "execution_count": 25,
   "metadata": {},
   "outputs": [
    {
     "name": "stdout",
     "output_type": "stream",
     "text": [
      "0.26229508196721313\n",
      "[1.0, 0.5245901639344263, 0.2751948400967482, 0.14436450628026137, 0.07573220001587481, 0.03972836722144253, 0.020841110673543623]\n",
      "0.48066496616749743\n",
      "Promedio de clientes en cola:  0.00021775986409200643\n",
      "Promedio de clientes en el sistema:  0.010448573131652612\n",
      "Lambda promedio:  0.7854332470960931\n",
      "Tiempo promedio en el sistema:  0.013302942255478893\n",
      "Tiempo promedio en cola:  0.00027724808555928726\n"
     ]
    }
   ],
   "source": [
    "Lambda = 0.8\n",
    "mu = 3.05\n",
    "rho = Lambda/mu\n",
    "NumeroCamiones = 6\n",
    "Lambda = Lambda/3 * NumeroCamiones\n",
    "print (rho)\n",
    "Rhos = []\n",
    "for i in range(NumeroCamiones+1):\n",
    "    mu = 3.05\n",
    "    rho = (Lambda/mu)**i\n",
    "    Rhos.append(rho)\n",
    "print (Rhos)\n",
    "P0 = 1/(sum(Rhos))\n",
    "print (P0)\n",
    "def Pn(n):\n",
    "    return P0*(rho**n)\n",
    "# Promedio de clientes en el sistema\n",
    "Lsuma = 0\n",
    "for i in range(NumeroCamiones+1):\n",
    "    Lsuma += i*Pn(i)\n",
    "Lqsuma = 0\n",
    "for i in range(1,NumeroCamiones+1):\n",
    "    Lqsuma += (i-1)*Pn(i)\n",
    "# Lambda promedio\n",
    "Lambdasuma = 0\n",
    "for i in range(NumeroCamiones+1):\n",
    "    Lambdasuma += Lambda*Pn(i)\n",
    "# Calcular W\n",
    "W = Lsuma/Lambdasuma\n",
    "Wq = Lqsuma/Lambdasuma\n",
    "print (\"Promedio de clientes en cola: \", Lqsuma)\n",
    "print (\"Promedio de clientes en el sistema: \", Lsuma)\n",
    "print (\"Lambda promedio: \", Lambdasuma)\n",
    "print (\"Tiempo promedio en el sistema: \", W)\n",
    "print (\"Tiempo promedio en cola: \", Wq)"
   ]
  },
  {
   "cell_type": "code",
   "execution_count": null,
   "metadata": {},
   "outputs": [],
   "source": []
  }
 ],
 "metadata": {
  "kernelspec": {
   "display_name": "MLearn",
   "language": "python",
   "name": "python3"
  },
  "language_info": {
   "codemirror_mode": {
    "name": "ipython",
    "version": 3
   },
   "file_extension": ".py",
   "mimetype": "text/x-python",
   "name": "python",
   "nbconvert_exporter": "python",
   "pygments_lexer": "ipython3",
   "version": "3.11.4"
  },
  "orig_nbformat": 4
 },
 "nbformat": 4,
 "nbformat_minor": 2
}
